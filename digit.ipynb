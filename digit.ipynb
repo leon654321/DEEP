{
  "nbformat": 4,
  "nbformat_minor": 0,
  "metadata": {
    "colab": {
      "name": "Untitled.ipynb",
      "provenance": [],
      "collapsed_sections": [],
      "include_colab_link": true
    },
    "kernelspec": {
      "display_name": "Python 3",
      "language": "python",
      "name": "python3"
    },
    "language_info": {
      "codemirror_mode": {
        "name": "ipython",
        "version": 3
      },
      "file_extension": ".py",
      "mimetype": "text/x-python",
      "name": "python",
      "nbconvert_exporter": "python",
      "pygments_lexer": "ipython3",
      "version": "3.8.5"
    },
    "accelerator": "GPU"
  },
  "cells": [
    {
      "cell_type": "markdown",
      "metadata": {
        "id": "view-in-github",
        "colab_type": "text"
      },
      "source": [
        "<a href=\"https://colab.research.google.com/github/leon654321/DEEP/blob/main/digit.ipynb\" target=\"_parent\"><img src=\"https://colab.research.google.com/assets/colab-badge.svg\" alt=\"Open In Colab\"/></a>"
      ]
    },
    {
      "cell_type": "code",
      "metadata": {
        "colab": {
          "base_uri": "https://localhost:8080/"
        },
        "id": "lQZKbDtFmaJf",
        "outputId": "5bb031ce-a450-450e-fe99-1057ddace1c8"
      },
      "source": [
        "from google.colab import drive\n",
        "drive.mount('/content/drive')"
      ],
      "execution_count": null,
      "outputs": [
        {
          "output_type": "stream",
          "name": "stdout",
          "text": [
            "Mounted at /content/drive\n"
          ]
        }
      ]
    },
    {
      "cell_type": "code",
      "metadata": {
        "id": "WDZzrqMjkyRB"
      },
      "source": [
        "import pandas as pd\n",
        "import matplotlib.pyplot as plt\n",
        "%matplotlib inline\n",
        "from sklearn.model_selection import train_test_split\n",
        "from tensorflow.keras.utils import to_categorical\n",
        "from tensorflow.keras.models import Sequential\n",
        "from tensorflow.keras.layers import Dense, Dropout, Flatten, Conv2D, MaxPool2D, BatchNormalization\n",
        "from tensorflow.keras.optimizers import Adam\n",
        "from tensorflow.keras.preprocessing.image import ImageDataGenerator\n",
        "from tensorflow.keras.callbacks import LearningRateScheduler, EarlyStopping\n",
        "from tensorflow.keras.datasets import mnist\n",
        "import numpy as np"
      ],
      "execution_count": null,
      "outputs": []
    },
    {
      "cell_type": "code",
      "metadata": {
        "id": "SuwzzOCkkyRE"
      },
      "source": [
        "train = pd.read_csv(\"/content/drive/My Drive/Kaggle/digit-recognizer/train.csv\")\n",
        "test = pd.read_csv(\"/content/drive/My Drive/Kaggle/digit-recognizer/test.csv\")\n",
        "\n",
        "Y_train = train[\"label\"] #defining labels as Y_train\n",
        "X_train = train.drop(labels = [\"label\"],axis = 1) #defining the images as X_train"
      ],
      "execution_count": null,
      "outputs": []
    },
    {
      "cell_type": "code",
      "metadata": {
        "id": "QYAY0Z37DbDZ"
      },
      "source": [
        "(x_train1, y_train1), (x_test1, y_test1) = mnist.load_data()\n",
        "\n",
        "train1 = np.concatenate([x_train1, x_test1], axis=0)\n",
        "y_train1 = np.concatenate([y_train1, y_test1], axis=0)\n",
        "\n",
        "Y_train1 = y_train1\n",
        "X_train1 = train1.reshape(-1, 28*28)"
      ],
      "execution_count": null,
      "outputs": []
    },
    {
      "cell_type": "code",
      "metadata": {
        "id": "hY7m_DteFjVU"
      },
      "source": [
        "import seaborn as sns\n",
        "g = sns.countplot(Y_train)"
      ],
      "execution_count": null,
      "outputs": []
    },
    {
      "cell_type": "code",
      "metadata": {
        "id": "MtQBvHA1kyRF"
      },
      "source": [
        "X_train = X_train / 255.0\n",
        "#X_train = X_train.astype('float32')\n",
        "X_test = test / 255.0\n",
        "#X_test = X_test.astype('float32')\n",
        "X_train1 = X_train1 / 255.0\n",
        "#X_train1 = X_train1.astype('float32')\n",
        "\n",
        "# Reshape Picture is 3D array (height = 28px, width = 28px , canal = 1)\n",
        "X_train = np.concatenate((X_train.values, X_train1))\n",
        "Y_train = np.concatenate((Y_train, Y_train1))\n",
        "\n",
        "\n",
        "X_train = X_train.reshape(-1,28,28,1)\n",
        "X_test = X_test.values.reshape(-1,28,28,1)\n",
        "\n",
        "\"\"\"\n",
        "X_train = X_train.values.reshape(X_train.shape[0],28,28,1)\n",
        "X_test = X_test.values.reshape(X_test.shape[0],28,28,1)\n",
        "\"\"\"\n",
        "\n",
        "Y_train = to_categorical(Y_train, num_classes = 10)"
      ],
      "execution_count": null,
      "outputs": []
    },
    {
      "cell_type": "code",
      "metadata": {
        "id": "REp9yXyqkyRF"
      },
      "source": [
        "for i in range(0,10):\n",
        "    g = plt.imshow(X_train[i][:,:,0]) #displaying random image from the dataset\n",
        "    plt.show()"
      ],
      "execution_count": null,
      "outputs": []
    },
    {
      "cell_type": "code",
      "metadata": {
        "id": "NzkQwbpgkyRG"
      },
      "source": [
        "datagen = ImageDataGenerator(\n",
        "        featurewise_center=False,\n",
        "        rotation_range=5,\n",
        "        zoom_range = 0.2,\n",
        "        width_shift_range=0.1,\n",
        "        height_shift_range=0.1,)\n",
        "        #zca_whitening=True)\n",
        "\n",
        "datagen.fit(X_train)\n",
        "\n"
      ],
      "execution_count": null,
      "outputs": []
    },
    {
      "cell_type": "code",
      "metadata": {
        "colab": {
          "base_uri": "https://localhost:8080/"
        },
        "id": "W0LGF0iKkyRG",
        "outputId": "f0abbc86-638c-46be-b9a1-adf061cb61f9"
      },
      "source": [
        "nets = 17\n",
        "model = [0] *nets\n",
        "optimizer=Adam(lr=0.001)\n",
        "for j in range(nets):\n",
        "    model[j] = Sequential()\n",
        "\n",
        "    model[j].add(Conv2D(32, kernel_size=3,padding=\"same\",input_shape=(28, 28,1), activation = 'relu'))\n",
        "    model[j].add(BatchNormalization())\n",
        "    model[j].add(Conv2D(32, kernel_size=3, activation = 'relu'))\n",
        "    model[j].add(BatchNormalization())\n",
        "    model[j].add(Conv2D(32, kernel_size=5, strides=2, activation = 'relu'))\n",
        "    #model[j].add(MaxPool2D(2,2))\n",
        "    model[j].add(BatchNormalization())\n",
        "    model[j].add(Dropout(0.4))\n",
        "\n",
        "    model[j].add(Conv2D(64, kernel_size=3,padding=\"same\",activation = 'relu'))\n",
        "    model[j].add(BatchNormalization())\n",
        "    model[j].add(Conv2D(64, kernel_size=3,activation = 'relu'))\n",
        "    model[j].add(BatchNormalization())\n",
        "    model[j].add(Conv2D(64, kernel_size=3,activation = 'relu'))\n",
        "    #model[j].add(MaxPool2D(2,2))\n",
        "    model[j].add(BatchNormalization())\n",
        "    model[j].add(Dropout(0.4))\n",
        "\n",
        "    \"\"\"\n",
        "    model[j].add(Conv2D(128, kernel_size=3,padding=\"same\", activation = 'relu'))\n",
        "    model[j].add(BatchNormalization())\n",
        "    model[j].add(Conv2D(128, kernel_size=3,activation = 'relu'))\n",
        "    model[j].add(BatchNormalization())\"\"\"\n",
        "    model[j].add(Conv2D(128, kernel_size=3,activation = 'relu'))\n",
        "    model[j].add(BatchNormalization())\n",
        "    model[j].add(Dropout(0.4))\n",
        "\n",
        "\n",
        "    model[j].add(Flatten())\n",
        "    model[j].add(Dense(256, activation = \"relu\"))\n",
        "    model[j].add(BatchNormalization())\n",
        "    #model[j].add(Dropout(0.4))\n",
        "    #model[j].add(Dense(128, activation = \"relu\"))\n",
        "    model[j].add(Dropout(0.4))\n",
        "    model[j].add(Dense(10, activation = \"softmax\"))\n",
        "    model[j].compile(optimizer = optimizer , loss = \"categorical_crossentropy\", metrics=[\"accuracy\"])"
      ],
      "execution_count": null,
      "outputs": [
        {
          "output_type": "stream",
          "name": "stderr",
          "text": [
            "/usr/local/lib/python3.7/dist-packages/keras/optimizer_v2/optimizer_v2.py:356: UserWarning: The `lr` argument is deprecated, use `learning_rate` instead.\n",
            "  \"The `lr` argument is deprecated, use `learning_rate` instead.\")\n"
          ]
        }
      ]
    },
    {
      "cell_type": "code",
      "metadata": {
        "id": "mRG6mytSkyRH"
      },
      "source": [
        "model[0].summary()"
      ],
      "execution_count": null,
      "outputs": []
    },
    {
      "cell_type": "code",
      "metadata": {
        "colab": {
          "base_uri": "https://localhost:8080/"
        },
        "id": "CfqOmdqMkyRH",
        "outputId": "f9184707-29c7-4744-8869-eb8a632725e7"
      },
      "source": [
        "results = np.zeros( (X_test.shape[0],10) ) \n",
        "for i in range(nets):\n",
        "    X_train2, X_val2, Y_train2, Y_val2 = train_test_split(X_train, Y_train, test_size = 0.1)\n",
        "    #early_stopping =  EarlyStopping(monitor='val_loss',min_delta=0.0,patience=4,)\n",
        "    model_try = model[i].fit_generator(datagen.flow(X_train2,Y_train2, batch_size=32),\n",
        "                                  epochs = 8, validation_data = (X_val2,Y_val2),\n",
        "                                  verbose = 1, steps_per_epoch=300)#,callbacks=[early_stopping])\n",
        "    results = results + model[i].predict(X_test)\n",
        "results = np.argmax(results,axis = 1)\n",
        "results = pd.Series(results,name=\"Label\")\n",
        "submit = pd.concat([pd.Series(range(1,28001),name = \"ImageId\"),results],axis = 1)"
      ],
      "execution_count": null,
      "outputs": [
        {
          "output_type": "stream",
          "name": "stderr",
          "text": [
            "/usr/local/lib/python3.7/dist-packages/keras/engine/training.py:1972: UserWarning: `Model.fit_generator` is deprecated and will be removed in a future version. Please use `Model.fit`, which supports generators.\n",
            "  warnings.warn('`Model.fit_generator` is deprecated and '\n"
          ]
        },
        {
          "output_type": "stream",
          "name": "stdout",
          "text": [
            "Epoch 1/8\n",
            "300/300 [==============================] - 38s 32ms/step - loss: 1.0805 - accuracy: 0.6797 - val_loss: 2.8009 - val_accuracy: 0.3999\n",
            "Epoch 2/8\n",
            "300/300 [==============================] - 7s 25ms/step - loss: 0.3375 - accuracy: 0.8938 - val_loss: 0.4692 - val_accuracy: 0.8568\n",
            "Epoch 3/8\n",
            "300/300 [==============================] - 7s 24ms/step - loss: 0.2416 - accuracy: 0.9264 - val_loss: 0.0857 - val_accuracy: 0.9739\n",
            "Epoch 4/8\n",
            "300/300 [==============================] - 7s 24ms/step - loss: 0.1864 - accuracy: 0.9434 - val_loss: 0.0600 - val_accuracy: 0.9816\n",
            "Epoch 5/8\n",
            "300/300 [==============================] - 7s 25ms/step - loss: 0.1651 - accuracy: 0.9505 - val_loss: 0.0628 - val_accuracy: 0.9811\n",
            "Epoch 6/8\n",
            "300/300 [==============================] - 7s 24ms/step - loss: 0.1339 - accuracy: 0.9599 - val_loss: 0.0489 - val_accuracy: 0.9861\n",
            "Epoch 7/8\n",
            "300/300 [==============================] - 7s 24ms/step - loss: 0.1306 - accuracy: 0.9621 - val_loss: 0.0542 - val_accuracy: 0.9835\n",
            "Epoch 8/8\n",
            "300/300 [==============================] - 8s 25ms/step - loss: 0.1308 - accuracy: 0.9607 - val_loss: 0.0672 - val_accuracy: 0.9804\n",
            "Epoch 1/8\n",
            "300/300 [==============================] - 9s 25ms/step - loss: 0.7786 - accuracy: 0.7653 - val_loss: 7.4495 - val_accuracy: 0.1062\n",
            "Epoch 2/8\n",
            "300/300 [==============================] - 7s 25ms/step - loss: 0.2971 - accuracy: 0.9122 - val_loss: 0.1182 - val_accuracy: 0.9614\n",
            "Epoch 3/8\n",
            "300/300 [==============================] - 7s 25ms/step - loss: 0.2267 - accuracy: 0.9340 - val_loss: 0.0862 - val_accuracy: 0.9726\n",
            "Epoch 4/8\n",
            "300/300 [==============================] - 8s 26ms/step - loss: 0.1771 - accuracy: 0.9464 - val_loss: 0.0623 - val_accuracy: 0.9804\n",
            "Epoch 5/8\n",
            "300/300 [==============================] - 8s 25ms/step - loss: 0.1593 - accuracy: 0.9519 - val_loss: 0.0610 - val_accuracy: 0.9821\n",
            "Epoch 6/8\n",
            "300/300 [==============================] - 7s 25ms/step - loss: 0.1504 - accuracy: 0.9547 - val_loss: 0.0688 - val_accuracy: 0.9803\n",
            "Epoch 7/8\n",
            "300/300 [==============================] - 7s 24ms/step - loss: 0.1505 - accuracy: 0.9559 - val_loss: 0.0598 - val_accuracy: 0.9818\n",
            "Epoch 8/8\n",
            "300/300 [==============================] - 7s 25ms/step - loss: 0.1293 - accuracy: 0.9622 - val_loss: 0.0558 - val_accuracy: 0.9828\n",
            "Epoch 1/8\n",
            "300/300 [==============================] - 9s 27ms/step - loss: 0.7640 - accuracy: 0.7766 - val_loss: 7.1029 - val_accuracy: 0.1006\n",
            "Epoch 2/8\n",
            "300/300 [==============================] - 8s 25ms/step - loss: 0.2684 - accuracy: 0.9159 - val_loss: 0.1278 - val_accuracy: 0.9622\n",
            "Epoch 3/8\n",
            "300/300 [==============================] - 8s 25ms/step - loss: 0.2206 - accuracy: 0.9353 - val_loss: 0.0853 - val_accuracy: 0.9747\n",
            "Epoch 4/8\n",
            "300/300 [==============================] - 8s 26ms/step - loss: 0.1785 - accuracy: 0.9470 - val_loss: 0.0498 - val_accuracy: 0.9838\n",
            "Epoch 5/8\n",
            "300/300 [==============================] - 7s 24ms/step - loss: 0.1614 - accuracy: 0.9508 - val_loss: 0.0709 - val_accuracy: 0.9794\n",
            "Epoch 6/8\n",
            "300/300 [==============================] - 7s 25ms/step - loss: 0.1599 - accuracy: 0.9517 - val_loss: 0.0665 - val_accuracy: 0.9793\n",
            "Epoch 7/8\n",
            "300/300 [==============================] - 7s 24ms/step - loss: 0.1379 - accuracy: 0.9614 - val_loss: 0.0789 - val_accuracy: 0.9755\n",
            "Epoch 8/8\n",
            "300/300 [==============================] - 8s 25ms/step - loss: 0.1177 - accuracy: 0.9652 - val_loss: 0.0475 - val_accuracy: 0.9848\n",
            "Epoch 1/8\n",
            "300/300 [==============================] - 9s 26ms/step - loss: 0.7520 - accuracy: 0.7783 - val_loss: 4.7134 - val_accuracy: 0.1274\n",
            "Epoch 2/8\n",
            "300/300 [==============================] - 8s 25ms/step - loss: 0.3109 - accuracy: 0.9054 - val_loss: 0.2506 - val_accuracy: 0.9204\n",
            "Epoch 3/8\n",
            "300/300 [==============================] - 7s 24ms/step - loss: 0.2253 - accuracy: 0.9322 - val_loss: 0.0772 - val_accuracy: 0.9771\n",
            "Epoch 4/8\n",
            "300/300 [==============================] - 8s 26ms/step - loss: 0.1882 - accuracy: 0.9420 - val_loss: 0.0690 - val_accuracy: 0.9776\n",
            "Epoch 5/8\n",
            "300/300 [==============================] - 9s 31ms/step - loss: 0.1695 - accuracy: 0.9480 - val_loss: 0.0697 - val_accuracy: 0.9790\n",
            "Epoch 6/8\n",
            "300/300 [==============================] - 8s 25ms/step - loss: 0.1495 - accuracy: 0.9552 - val_loss: 0.0589 - val_accuracy: 0.9812\n",
            "Epoch 7/8\n",
            "300/300 [==============================] - 8s 26ms/step - loss: 0.1299 - accuracy: 0.9615 - val_loss: 0.0746 - val_accuracy: 0.9792\n",
            "Epoch 8/8\n",
            "300/300 [==============================] - 8s 25ms/step - loss: 0.1396 - accuracy: 0.9574 - val_loss: 0.0580 - val_accuracy: 0.9829\n",
            "Epoch 1/8\n",
            "300/300 [==============================] - 9s 25ms/step - loss: 0.7467 - accuracy: 0.7767 - val_loss: 3.1610 - val_accuracy: 0.4312\n",
            "Epoch 2/8\n",
            "300/300 [==============================] - 8s 28ms/step - loss: 0.2764 - accuracy: 0.9125 - val_loss: 0.1261 - val_accuracy: 0.9625\n",
            "Epoch 3/8\n",
            "300/300 [==============================] - 8s 25ms/step - loss: 0.2147 - accuracy: 0.9334 - val_loss: 0.0737 - val_accuracy: 0.9781\n",
            "Epoch 4/8\n",
            "300/300 [==============================] - 7s 25ms/step - loss: 0.1737 - accuracy: 0.9469 - val_loss: 0.0585 - val_accuracy: 0.9833\n",
            "Epoch 5/8\n",
            "300/300 [==============================] - 8s 25ms/step - loss: 0.1548 - accuracy: 0.9552 - val_loss: 0.0490 - val_accuracy: 0.9844\n",
            "Epoch 6/8\n",
            "300/300 [==============================] - 7s 25ms/step - loss: 0.1324 - accuracy: 0.9614 - val_loss: 0.0442 - val_accuracy: 0.9860\n",
            "Epoch 7/8\n",
            "300/300 [==============================] - 8s 27ms/step - loss: 0.1237 - accuracy: 0.9624 - val_loss: 0.0396 - val_accuracy: 0.9872\n",
            "Epoch 8/8\n",
            "300/300 [==============================] - 8s 25ms/step - loss: 0.1316 - accuracy: 0.9616 - val_loss: 0.0659 - val_accuracy: 0.9812\n",
            "Epoch 1/8\n",
            "300/300 [==============================] - 9s 26ms/step - loss: 0.7904 - accuracy: 0.7663 - val_loss: 1.3578 - val_accuracy: 0.5585\n",
            "Epoch 2/8\n",
            "300/300 [==============================] - 7s 25ms/step - loss: 0.3015 - accuracy: 0.9055 - val_loss: 0.1035 - val_accuracy: 0.9683\n",
            "Epoch 3/8\n",
            "300/300 [==============================] - 7s 25ms/step - loss: 0.2157 - accuracy: 0.9368 - val_loss: 0.0913 - val_accuracy: 0.9745\n",
            "Epoch 4/8\n",
            "300/300 [==============================] - 8s 26ms/step - loss: 0.1900 - accuracy: 0.9419 - val_loss: 0.0641 - val_accuracy: 0.9806\n",
            "Epoch 5/8\n",
            "300/300 [==============================] - 8s 25ms/step - loss: 0.1787 - accuracy: 0.9449 - val_loss: 0.0758 - val_accuracy: 0.9779\n",
            "Epoch 6/8\n",
            "300/300 [==============================] - 8s 25ms/step - loss: 0.1377 - accuracy: 0.9595 - val_loss: 0.0700 - val_accuracy: 0.9791\n",
            "Epoch 7/8\n",
            "300/300 [==============================] - 8s 25ms/step - loss: 0.1298 - accuracy: 0.9615 - val_loss: 0.0793 - val_accuracy: 0.9767\n",
            "Epoch 8/8\n",
            "300/300 [==============================] - 8s 26ms/step - loss: 0.1253 - accuracy: 0.9621 - val_loss: 0.0697 - val_accuracy: 0.9792\n",
            "Epoch 1/8\n",
            "300/300 [==============================] - 10s 27ms/step - loss: 0.8015 - accuracy: 0.7557 - val_loss: 4.6237 - val_accuracy: 0.2460\n",
            "Epoch 2/8\n",
            "300/300 [==============================] - 8s 26ms/step - loss: 0.2878 - accuracy: 0.9112 - val_loss: 0.0970 - val_accuracy: 0.9701\n",
            "Epoch 3/8\n",
            "300/300 [==============================] - 7s 25ms/step - loss: 0.2276 - accuracy: 0.9319 - val_loss: 0.0722 - val_accuracy: 0.9776\n",
            "Epoch 4/8\n",
            "300/300 [==============================] - 8s 26ms/step - loss: 0.1886 - accuracy: 0.9440 - val_loss: 0.0634 - val_accuracy: 0.9812\n",
            "Epoch 5/8\n",
            "300/300 [==============================] - 8s 26ms/step - loss: 0.1619 - accuracy: 0.9506 - val_loss: 0.0473 - val_accuracy: 0.9854\n",
            "Epoch 6/8\n",
            "300/300 [==============================] - 8s 26ms/step - loss: 0.1345 - accuracy: 0.9617 - val_loss: 0.0510 - val_accuracy: 0.9846\n",
            "Epoch 7/8\n",
            "300/300 [==============================] - 7s 25ms/step - loss: 0.1437 - accuracy: 0.9572 - val_loss: 0.0570 - val_accuracy: 0.9824\n",
            "Epoch 8/8\n",
            "300/300 [==============================] - 8s 25ms/step - loss: 0.1285 - accuracy: 0.9616 - val_loss: 0.0588 - val_accuracy: 0.9821\n",
            "Epoch 1/8\n",
            "300/300 [==============================] - 11s 33ms/step - loss: 0.7827 - accuracy: 0.7654 - val_loss: 9.3219 - val_accuracy: 0.0953\n",
            "Epoch 2/8\n",
            "300/300 [==============================] - 7s 25ms/step - loss: 0.3015 - accuracy: 0.9030 - val_loss: 0.2286 - val_accuracy: 0.9304\n",
            "Epoch 3/8\n",
            "300/300 [==============================] - 7s 25ms/step - loss: 0.2233 - accuracy: 0.9352 - val_loss: 0.0692 - val_accuracy: 0.9796\n",
            "Epoch 4/8\n",
            "300/300 [==============================] - 8s 26ms/step - loss: 0.1783 - accuracy: 0.9450 - val_loss: 0.0640 - val_accuracy: 0.9798\n",
            "Epoch 5/8\n",
            "300/300 [==============================] - 8s 26ms/step - loss: 0.1736 - accuracy: 0.9488 - val_loss: 0.0531 - val_accuracy: 0.9838\n",
            "Epoch 6/8\n",
            "300/300 [==============================] - 8s 26ms/step - loss: 0.1417 - accuracy: 0.9583 - val_loss: 0.0458 - val_accuracy: 0.9850\n",
            "Epoch 7/8\n",
            "300/300 [==============================] - 7s 25ms/step - loss: 0.1429 - accuracy: 0.9564 - val_loss: 0.0839 - val_accuracy: 0.9758\n",
            "Epoch 8/8\n",
            "300/300 [==============================] - 8s 26ms/step - loss: 0.1250 - accuracy: 0.9624 - val_loss: 0.0530 - val_accuracy: 0.9828\n",
            "Epoch 1/8\n",
            "300/300 [==============================] - 9s 27ms/step - loss: 0.7412 - accuracy: 0.7782 - val_loss: 2.5049 - val_accuracy: 0.4510\n",
            "Epoch 2/8\n",
            "300/300 [==============================] - 8s 26ms/step - loss: 0.2853 - accuracy: 0.9127 - val_loss: 0.0910 - val_accuracy: 0.9725\n",
            "Epoch 3/8\n",
            "300/300 [==============================] - 8s 27ms/step - loss: 0.2107 - accuracy: 0.9351 - val_loss: 0.0759 - val_accuracy: 0.9760\n",
            "Epoch 4/8\n",
            "300/300 [==============================] - 8s 25ms/step - loss: 0.1781 - accuracy: 0.9473 - val_loss: 0.0504 - val_accuracy: 0.9840\n",
            "Epoch 5/8\n",
            "300/300 [==============================] - 7s 25ms/step - loss: 0.1548 - accuracy: 0.9534 - val_loss: 0.0516 - val_accuracy: 0.9833\n",
            "Epoch 6/8\n",
            "300/300 [==============================] - 8s 26ms/step - loss: 0.1318 - accuracy: 0.9596 - val_loss: 0.0971 - val_accuracy: 0.9701\n",
            "Epoch 7/8\n",
            "300/300 [==============================] - 8s 26ms/step - loss: 0.1265 - accuracy: 0.9613 - val_loss: 0.0550 - val_accuracy: 0.9826\n",
            "Epoch 8/8\n",
            "300/300 [==============================] - 8s 26ms/step - loss: 0.1215 - accuracy: 0.9642 - val_loss: 0.0657 - val_accuracy: 0.9798\n"
          ]
        }
      ]
    },
    {
      "cell_type": "code",
      "metadata": {
        "id": "WIzdOOIg4pBC"
      },
      "source": [
        "submit.to_csv(\"/content/drive/My Drive/Kaggle/digit-recognizer/result16.csv\",index=False)"
      ],
      "execution_count": null,
      "outputs": []
    },
    {
      "cell_type": "code",
      "metadata": {
        "id": "qE7EmbOlnt3j"
      },
      "source": [
        "from tensorflow.python.client import device_lib\n",
        "device_lib.list_local_devices()"
      ],
      "execution_count": null,
      "outputs": []
    },
    {
      "cell_type": "code",
      "metadata": {
        "id": "iS-GzCFakyRI"
      },
      "source": [
        "!nvidia-smi"
      ],
      "execution_count": null,
      "outputs": []
    },
    {
      "cell_type": "code",
      "metadata": {
        "id": "HqhqczOwoAIS"
      },
      "source": [
        ""
      ],
      "execution_count": null,
      "outputs": []
    }
  ]
}